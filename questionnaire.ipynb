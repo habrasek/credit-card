{
 "cells": [
  {
   "cell_type": "code",
   "execution_count": 1,
   "metadata": {},
   "outputs": [],
   "source": [
    "import pandas as pd"
   ]
  },
  {
   "cell_type": "code",
   "execution_count": 3,
   "metadata": {},
   "outputs": [],
   "source": [
    "cols = ['CNT_CHILDREN', 'AMT_INCOME_TOTAL', 'DAYS_BIRTH', 'DAYS_EMPLOYED',\n",
    "       'FLAG_MOBIL', 'FLAG_WORK_PHONE', 'FLAG_PHONE', 'FLAG_EMAIL',\n",
    "       'CNT_FAM_MEMBERS', 'CODE_GENDER_F', 'CODE_GENDER_M', 'FLAG_OWN_CAR_N',\n",
    "       'FLAG_OWN_CAR_Y', 'FLAG_OWN_REALTY_N', 'FLAG_OWN_REALTY_Y',\n",
    "       'NAME_INCOME_TYPE_Commercial associate', 'NAME_INCOME_TYPE_Pensioner',\n",
    "       'NAME_INCOME_TYPE_State servant', 'NAME_INCOME_TYPE_Student',\n",
    "       'NAME_INCOME_TYPE_Working', 'NAME_EDUCATION_TYPE_Academic degree',\n",
    "       'NAME_EDUCATION_TYPE_Higher education',\n",
    "       'NAME_EDUCATION_TYPE_Incomplete higher',\n",
    "       'NAME_EDUCATION_TYPE_Lower secondary',\n",
    "       'NAME_EDUCATION_TYPE_Secondary / secondary special',\n",
    "       'NAME_FAMILY_STATUS_Civil marriage', 'NAME_FAMILY_STATUS_Married',\n",
    "       'NAME_FAMILY_STATUS_Separated',\n",
    "       'NAME_FAMILY_STATUS_Single / not married', 'NAME_FAMILY_STATUS_Widow',\n",
    "       'NAME_HOUSING_TYPE_Co-op apartment',\n",
    "       'NAME_HOUSING_TYPE_House / apartment',\n",
    "       'NAME_HOUSING_TYPE_Municipal apartment',\n",
    "       'NAME_HOUSING_TYPE_Office apartment',\n",
    "       'NAME_HOUSING_TYPE_Rented apartment', 'NAME_HOUSING_TYPE_With parents',\n",
    "       'OCCUPATION_TYPE_Accountants', 'OCCUPATION_TYPE_Cleaning staff',\n",
    "       'OCCUPATION_TYPE_Cooking staff', 'OCCUPATION_TYPE_Core staff',\n",
    "       'OCCUPATION_TYPE_Drivers', 'OCCUPATION_TYPE_HR staff',\n",
    "       'OCCUPATION_TYPE_High skill tech staff', 'OCCUPATION_TYPE_IT staff',\n",
    "       'OCCUPATION_TYPE_Laborers', 'OCCUPATION_TYPE_Low-skill Laborers',\n",
    "       'OCCUPATION_TYPE_Managers', 'OCCUPATION_TYPE_Medicine staff',\n",
    "       'OCCUPATION_TYPE_Private service staff',\n",
    "       'OCCUPATION_TYPE_Realty agents', 'OCCUPATION_TYPE_Sales staff',\n",
    "       'OCCUPATION_TYPE_Secretaries', 'OCCUPATION_TYPE_Security staff',\n",
    "       'OCCUPATION_TYPE_Waiters/barmen staff']"
   ]
  },
  {
   "cell_type": "code",
   "execution_count": 4,
   "metadata": {},
   "outputs": [
    {
     "data": {
      "text/plain": [
       "54"
      ]
     },
     "execution_count": 4,
     "metadata": {},
     "output_type": "execute_result"
    }
   ],
   "source": [
    "len(cols)"
   ]
  },
  {
   "cell_type": "code",
   "execution_count": 13,
   "metadata": {},
   "outputs": [],
   "source": [
    "final = []\n",
    "for r in range(0,54):\n",
    "    final.append(0)"
   ]
  },
  {
   "cell_type": "code",
   "execution_count": 15,
   "metadata": {},
   "outputs": [
    {
     "data": {
      "text/plain": [
       "54"
      ]
     },
     "execution_count": 15,
     "metadata": {},
     "output_type": "execute_result"
    }
   ],
   "source": [
    "len(final)"
   ]
  },
  {
   "cell_type": "code",
   "execution_count": 47,
   "metadata": {},
   "outputs": [
    {
     "name": "stdout",
     "output_type": "stream",
     "text": [
      "How many children do you have? 0\n"
     ]
    }
   ],
   "source": [
    "children = input(\"How many children do you have? \")\n",
    "final[0] = int(children)"
   ]
  },
  {
   "cell_type": "code",
   "execution_count": 48,
   "metadata": {},
   "outputs": [
    {
     "name": "stdout",
     "output_type": "stream",
     "text": [
      "What is your total income? 75000\n"
     ]
    }
   ],
   "source": [
    "income = input(\"What is your total income? \")\n",
    "final[1] = int(income)"
   ]
  },
  {
   "cell_type": "code",
   "execution_count": 50,
   "metadata": {},
   "outputs": [
    {
     "name": "stdout",
     "output_type": "stream",
     "text": [
      "When were you born (yyyy-mm-dd)? 1997-10-16\n",
      "1997\n",
      "10\n",
      "16\n"
     ]
    }
   ],
   "source": [
    "import datetime\n",
    "from datetime import date\n",
    "dob = input(\"When were you born (yyyy-mm-dd)? \")\n",
    "year = dob[0:4]\n",
    "month = dob[5:7]\n",
    "day = dob[8:10]\n",
    "print(year)\n",
    "print(month)\n",
    "print(day)\n",
    "\n",
    "b_date = date(int(year), int(month), int(day))\n",
    "f_date = date(2021, 9, 15)"
   ]
  },
  {
   "cell_type": "code",
   "execution_count": 51,
   "metadata": {},
   "outputs": [
    {
     "name": "stdout",
     "output_type": "stream",
     "text": [
      "-8735\n"
     ]
    }
   ],
   "source": [
    "delta = b_date - f_date\n",
    "print(delta.days)\n",
    "final[2] = int(delta.days)"
   ]
  },
  {
   "cell_type": "code",
   "execution_count": 53,
   "metadata": {},
   "outputs": [
    {
     "name": "stdout",
     "output_type": "stream",
     "text": [
      "When did you start working (yyyy-mm-dd)? 2021-06-10\n",
      "2021\n",
      "06\n",
      "10\n"
     ]
    }
   ],
   "source": [
    "wor = input(\"When did you start working (yyyy-mm-dd)? \")\n",
    "yearw = wor[0:4]\n",
    "monthw = wor[5:7]\n",
    "dayw = wor[8:10]\n",
    "print(yearw)\n",
    "print(monthw)\n",
    "print(dayw)\n",
    "\n",
    "w_date = date(int(yearw), int(monthw), int(dayw))\n",
    "f_date = date(2021, 9, 15)"
   ]
  },
  {
   "cell_type": "code",
   "execution_count": 54,
   "metadata": {},
   "outputs": [
    {
     "name": "stdout",
     "output_type": "stream",
     "text": [
      "-97\n"
     ]
    }
   ],
   "source": [
    "deltaw = w_date - f_date\n",
    "print(deltaw.days)\n",
    "final[3] = int(deltaw.days)"
   ]
  },
  {
   "cell_type": "code",
   "execution_count": null,
   "metadata": {},
   "outputs": [],
   "source": [
    "#'FLAG_MOBIL', 'FLAG_WORK_PHONE', 'FLAG_PHONE', 'FLAG_EMAIL',"
   ]
  },
  {
   "cell_type": "code",
   "execution_count": 42,
   "metadata": {},
   "outputs": [
    {
     "name": "stdout",
     "output_type": "stream",
     "text": [
      "Do you have a mobile phone Y or N? Y\n",
      "Do you have a work phone Y or N? N\n",
      "Do you have a landline phone Y or N? Y\n",
      "Do you have an email Y or N? Y\n"
     ]
    }
   ],
   "source": [
    "mobile = input(\"Do you have a mobile phone Y or N? \")\n",
    "work_phone = input(\"Do you have a work phone Y or N? \")\n",
    "home_phone = input(\"Do you have a landline phone Y or N? \")\n",
    "email = input(\"Do you have an email Y or N? \")\n",
    "\n",
    "if mobile == 'Y':\n",
    "    final[4] = 1\n",
    "if mobile == 'N':\n",
    "    final[4] = 0\n",
    "    \n",
    "if work_phone == 'Y':\n",
    "    final[5] = 1\n",
    "if work_phone == 'N':\n",
    "    final[5] = 0\n",
    "\n",
    "if home_phone == 'Y':\n",
    "    final[6] = 1\n",
    "if home_phone == 'N':\n",
    "    final[6] = 0\n",
    "    \n",
    "if email == 'Y':\n",
    "    final[7] = 1\n",
    "if email == 'N':\n",
    "    final[7] = 0"
   ]
  },
  {
   "cell_type": "code",
   "execution_count": 70,
   "metadata": {},
   "outputs": [
    {
     "name": "stdout",
     "output_type": "stream",
     "text": [
      "[0, 75000, -8735, -97, 1, 0, 1, 1, 4, 0, 1, 0, 1, 1, 0, 0, 0, 0, 0, 1, 0, 0, 0, 0, 0, 0, 0, 0, 0, 0, 0, 0, 0, 0, 0, 0, 0, 0, 0, 0, 0, 0, 0, 0, 0, 0, 0, 0, 0, 0, 0, 0, 0, 0]\n"
     ]
    }
   ],
   "source": [
    "print(final)"
   ]
  },
  {
   "cell_type": "code",
   "execution_count": 56,
   "metadata": {},
   "outputs": [
    {
     "name": "stdout",
     "output_type": "stream",
     "text": [
      "How many people are in your immediate family? 4\n"
     ]
    }
   ],
   "source": [
    "family_size = input(\"How many people are in your immediate family? \")\n",
    "final[8] = int(family_size)"
   ]
  },
  {
   "cell_type": "code",
   "execution_count": 58,
   "metadata": {},
   "outputs": [
    {
     "name": "stdout",
     "output_type": "stream",
     "text": [
      "Male or Female? (M or F) M\n"
     ]
    }
   ],
   "source": [
    "#'CODE_GENDER_F', 'CODE_GENDER_M'\n",
    "gender = input(\"Male or Female? (M or F) \")\n",
    "if gender == 'M':\n",
    "    final[9] = 0\n",
    "    final[10] = 1\n",
    "\n",
    "if gender == 'F':\n",
    "    final[9] = 1\n",
    "    final[10] = 0"
   ]
  },
  {
   "cell_type": "code",
   "execution_count": 63,
   "metadata": {},
   "outputs": [
    {
     "name": "stdout",
     "output_type": "stream",
     "text": [
      "Do you own a car Y or N? Y\n"
     ]
    }
   ],
   "source": [
    "#'FLAG_OWN_CAR_N','FLAG_OWN_CAR_Y'\n",
    "car = input(\"Do you own a car Y or N? \")\n",
    "if car == 'Y':\n",
    "    final[11] = 0\n",
    "    final[12] = 1\n",
    "\n",
    "if car == 'N':\n",
    "    final[11] = 1\n",
    "    final[12] = 0"
   ]
  },
  {
   "cell_type": "code",
   "execution_count": 67,
   "metadata": {},
   "outputs": [
    {
     "name": "stdout",
     "output_type": "stream",
     "text": [
      "Do you own a home? (Y or N) N\n"
     ]
    }
   ],
   "source": [
    "#'FLAG_OWN_REALTY_N', 'FLAG_OWN_REALTY_Y'\n",
    "realty = input(\"Do you own a home? (Y or N) \")\n",
    "if realty == 'Y':\n",
    "    final[13] = 0\n",
    "    final[14] = 1\n",
    "\n",
    "if realty == 'N':\n",
    "    final[13] = 1\n",
    "    final[14] = 0"
   ]
  },
  {
   "cell_type": "code",
   "execution_count": 69,
   "metadata": {},
   "outputs": [
    {
     "name": "stdout",
     "output_type": "stream",
     "text": [
      "Enter the number that best represents your income type\n",
      "1. Commercial associate \n",
      "2. Pensioner\n",
      "3. State servant\n",
      "4. Student\n",
      "5. Working \n",
      "6. Academic degree\n",
      "5\n"
     ]
    }
   ],
   "source": [
    "#'NAME_INCOME_TYPE_Commercial associate', 'NAME_INCOME_TYPE_Pensioner',\n",
    "#'NAME_INCOME_TYPE_State servant', 'NAME_INCOME_TYPE_Student',\n",
    "#'NAME_INCOME_TYPE_Working', 'NAME_EDUCATION_TYPE_Academic degree',\n",
    "inc = input(\"\"\"Enter the number that best represents your income type\n",
    "1. Commercial associate \n",
    "2. Pensioner\n",
    "3. State servant\n",
    "4. Student\n",
    "5. Working \n",
    "6. Academic degree\n",
    "\"\"\")\n",
    "if inc == '1':\n",
    "    final[15] = 1\n",
    "    final[16] = 0\n",
    "    final[17] = 0\n",
    "    final[18] = 0\n",
    "    final[19] = 0\n",
    "    final[20] = 0\n",
    "if inc == '2':\n",
    "    final[15] = 0\n",
    "    final[16] = 1\n",
    "    final[17] = 0\n",
    "    final[18] = 0\n",
    "    final[19] = 0\n",
    "    final[20] = 0\n",
    "if inc == '3':\n",
    "    final[15] = 0\n",
    "    final[16] = 0\n",
    "    final[17] = 1\n",
    "    final[18] = 0\n",
    "    final[19] = 0\n",
    "    final[20] = 0\n",
    "if inc == '4':\n",
    "    final[15] = 0\n",
    "    final[16] = 0\n",
    "    final[17] = 0\n",
    "    final[18] = 1\n",
    "    final[19] = 0\n",
    "    final[20] = 0\n",
    "if inc == '5':\n",
    "    final[15] = 0\n",
    "    final[16] = 0\n",
    "    final[17] = 0\n",
    "    final[18] = 0\n",
    "    final[19] = 1\n",
    "    final[20] = 0\n",
    "if inc == '6':\n",
    "    final[15] = 0\n",
    "    final[16] = 0\n",
    "    final[17] = 0\n",
    "    final[18] = 0\n",
    "    final[19] = 0\n",
    "    final[20] = 1"
   ]
  },
  {
   "cell_type": "code",
   "execution_count": null,
   "metadata": {},
   "outputs": [],
   "source": [
    "edu = input(\"\"\"1. Higher education\n",
    "2. Incomplete higher\n",
    "3. Lower secondary\n",
    "4. Secondary / secondary special: \"\"\")\n",
    "\n",
    "if edu == '1':\n",
    "    j = [1,0,0,0]\n",
    "if edu == '2':\n",
    "    j = [0,1,0,0]\n",
    "if edu == '3':\n",
    "    j = [0,0,1,0]\n",
    "if edu == '4':\n",
    "    j = [0,0,0,1]\n"
   ]
  },
  {
   "cell_type": "code",
   "execution_count": 12,
   "metadata": {},
   "outputs": [
    {
     "data": {
      "text/plain": [
       "[0, 1, 0, 0]"
      ]
     },
     "execution_count": 12,
     "metadata": {},
     "output_type": "execute_result"
    }
   ],
   "source": [
    "j"
   ]
  },
  {
   "cell_type": "code",
   "execution_count": 37,
   "metadata": {},
   "outputs": [],
   "source": [
    "app = pd.read_csv(\"application_record.csv\")"
   ]
  },
  {
   "cell_type": "code",
   "execution_count": null,
   "metadata": {},
   "outputs": [],
   "source": []
  }
 ],
 "metadata": {
  "kernelspec": {
   "display_name": "Python 3",
   "language": "python",
   "name": "python3"
  },
  "language_info": {
   "codemirror_mode": {
    "name": "ipython",
    "version": 3
   },
   "file_extension": ".py",
   "mimetype": "text/x-python",
   "name": "python",
   "nbconvert_exporter": "python",
   "pygments_lexer": "ipython3",
   "version": "3.8.5"
  }
 },
 "nbformat": 4,
 "nbformat_minor": 4
}
